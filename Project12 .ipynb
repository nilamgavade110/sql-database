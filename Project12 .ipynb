{
 "cells": [
  {
   "cell_type": "code",
   "execution_count": 1,
   "id": "4d0cd905",
   "metadata": {},
   "outputs": [],
   "source": [
    "# importing necessary libraries\n",
    "import mysql.connector\n",
    "import pandas as pd\n"
   ]
  },
  {
   "cell_type": "code",
   "execution_count": 2,
   "id": "f3ab6019",
   "metadata": {},
   "outputs": [],
   "source": [
    "# connecting mysql server\n",
    "database = mysql.connector.connect(host=\"localhost\",user=\"root\",passwd= \"root1\",database=\"project12\")\n",
    "cursor = database.cursor()\n",
    "query2 = \"select*from patient21\""
   ]
  },
  {
   "cell_type": "code",
   "execution_count": 3,
   "id": "87ebe644",
   "metadata": {},
   "outputs": [],
   "source": [
    "cursor.execute(query2)"
   ]
  },
  {
   "cell_type": "code",
   "execution_count": 4,
   "id": "1d7fafaa",
   "metadata": {},
   "outputs": [],
   "source": [
    "table_rows = cursor.fetchall()"
   ]
  },
  {
   "cell_type": "code",
   "execution_count": 5,
   "id": "1b86d55c",
   "metadata": {},
   "outputs": [
    {
     "name": "stdout",
     "output_type": "stream",
     "text": [
      "   cust_ID     Name   Open_date  Consult_dt VAC_ID  Dr_Name State Country  \\\n",
      "0      321    Nilam  2021-09-01  2022-09-02    CSD    Megha    MH     IND   \n",
      "1      349   Shital  2021-08-05  2022-08-05    CSD    Nayan    SA     USA   \n",
      "2      457   manish  2021-09-05  2022-10-05    CSD  kaushal   WAS    PHIL   \n",
      "3      488   yogesh  2021-09-08  2022-10-22    CSD  kaushal   BOS     NYC   \n",
      "4      496  shubham  2021-09-04  2022-10-08    CSD  kamlesh   VIC      AU   \n",
      "5      499    meera  2021-04-09  2022-06-06    CSD    kamya    TN     IND   \n",
      "6      501   niyesh  2021-04-09  2022-06-06    CSD   keshav    SA     USA   \n",
      "7      512    minal  2021-04-09  2022-06-06    CSD    kamya   WAS    PHIL   \n",
      "8      555    mohit  2021-04-09  2022-06-06    CSD     neha   BOS     NYC   \n",
      "9      598   ganesh  2021-04-09  2022-06-06    CSD  kalyani   VIC      AU   \n",
      "\n",
      "          DOB Active  \n",
      "0  1998-04-04      A  \n",
      "1  1998-09-06      A  \n",
      "2  1994-04-02      A  \n",
      "3  1992-06-01      A  \n",
      "4  1993-01-09      A  \n",
      "5  1995-04-06      A  \n",
      "6  1991-02-01      A  \n",
      "7  1994-03-04      A  \n",
      "8  1997-07-07      A  \n",
      "9  1995-09-09      A  \n"
     ]
    }
   ],
   "source": [
    "df = pd.read_sql('SELECT * FROM patient21', con=database) \n",
    "print(df)"
   ]
  },
  {
   "cell_type": "code",
   "execution_count": 6,
   "id": "1b6524a2",
   "metadata": {},
   "outputs": [
    {
     "name": "stdout",
     "output_type": "stream",
     "text": [
      "            Name   Open_date  Consult_dt VAC_ID  Dr_Name State Country  \\\n",
      "cust_ID                                                                  \n",
      "321        Nilam  2021-09-01  2022-09-02    CSD    Megha    MH     IND   \n",
      "349       Shital  2021-08-05  2022-08-05    CSD    Nayan    SA     USA   \n",
      "457       manish  2021-09-05  2022-10-05    CSD  kaushal   WAS    PHIL   \n",
      "488       yogesh  2021-09-08  2022-10-22    CSD  kaushal   BOS     NYC   \n",
      "496      shubham  2021-09-04  2022-10-08    CSD  kamlesh   VIC      AU   \n",
      "499        meera  2021-04-09  2022-06-06    CSD    kamya    TN     IND   \n",
      "501       niyesh  2021-04-09  2022-06-06    CSD   keshav    SA     USA   \n",
      "512        minal  2021-04-09  2022-06-06    CSD    kamya   WAS    PHIL   \n",
      "555        mohit  2021-04-09  2022-06-06    CSD     neha   BOS     NYC   \n",
      "598       ganesh  2021-04-09  2022-06-06    CSD  kalyani   VIC      AU   \n",
      "\n",
      "                DOB Active  \n",
      "cust_ID                     \n",
      "321      1998-04-04      A  \n",
      "349      1998-09-06      A  \n",
      "457      1994-04-02      A  \n",
      "488      1992-06-01      A  \n",
      "496      1993-01-09      A  \n",
      "499      1995-04-06      A  \n",
      "501      1991-02-01      A  \n",
      "512      1994-03-04      A  \n",
      "555      1997-07-07      A  \n",
      "598      1995-09-09      A  \n"
     ]
    }
   ],
   "source": [
    "df.set_index(['cust_ID'], inplace=True)  # setting default index\n",
    "print (df)"
   ]
  },
  {
   "cell_type": "code",
   "execution_count": 7,
   "id": "e557343a",
   "metadata": {},
   "outputs": [],
   "source": [
    "ans = df.loc[df['Country'] == \"IND\"]"
   ]
  },
  {
   "cell_type": "code",
   "execution_count": 8,
   "id": "28dec2c9",
   "metadata": {},
   "outputs": [],
   "source": [
    "def show_data(country):\n",
    "    data = df.loc[df['Country'] == country]\n",
    "    print(data)"
   ]
  },
  {
   "cell_type": "code",
   "execution_count": 9,
   "id": "58e22c50",
   "metadata": {},
   "outputs": [],
   "source": [
    "def get_file(country):\n",
    "    data = df.loc[df['Country'] == country]\n",
    "    file_name = str(country)\n",
    "    data.to_csv('C:/Users/yogesh/Downloads/' + country + \".csv\")  # replace path with your desired path\n",
    "    print(\"File has been created to the specified path\")\n"
   ]
  },
  {
   "cell_type": "code",
   "execution_count": 10,
   "id": "67ba8c21",
   "metadata": {},
   "outputs": [
    {
     "name": "stdout",
     "output_type": "stream",
     "text": [
      "          Name   Open_date  Consult_dt VAC_ID Dr_Name State Country  \\\n",
      "cust_ID                                                               \n",
      "321      Nilam  2021-09-01  2022-09-02    CSD   Megha    MH     IND   \n",
      "499      meera  2021-04-09  2022-06-06    CSD   kamya    TN     IND   \n",
      "\n",
      "                DOB Active  \n",
      "cust_ID                     \n",
      "321      1998-04-04      A  \n",
      "499      1995-04-06      A  \n",
      "File has been created to the specified path\n"
     ]
    }
   ],
   "source": [
    "# calling functions\n",
    "\n",
    "show_data(\"IND\")\n",
    "get_file(\"IND\")"
   ]
  },
  {
   "cell_type": "code",
   "execution_count": 11,
   "id": "cdbe2162",
   "metadata": {},
   "outputs": [],
   "source": [
    "ans = df.loc[df['Country'] == \"USA\"]\n"
   ]
  },
  {
   "cell_type": "code",
   "execution_count": 12,
   "id": "198a09c2",
   "metadata": {},
   "outputs": [],
   "source": [
    "def show_data(country):\n",
    "    data = df.loc[df['Country'] == country]\n",
    "    print(data)"
   ]
  },
  {
   "cell_type": "code",
   "execution_count": 13,
   "id": "3007d586",
   "metadata": {},
   "outputs": [],
   "source": [
    "def get_file(country):\n",
    "    data = df.loc[df['Country'] == country]\n",
    "    file_name = str(country)\n",
    "    data.to_csv('C:/Users/yogesh/Downloads/' + country + \".csv\")  # replace path with your desired path\n",
    "    print(\"File has been created to the specified path\")\n"
   ]
  },
  {
   "cell_type": "code",
   "execution_count": 14,
   "id": "7e612ef3",
   "metadata": {},
   "outputs": [
    {
     "name": "stdout",
     "output_type": "stream",
     "text": [
      "           Name   Open_date  Consult_dt VAC_ID Dr_Name State Country  \\\n",
      "cust_ID                                                                \n",
      "349      Shital  2021-08-05  2022-08-05    CSD   Nayan    SA     USA   \n",
      "501      niyesh  2021-04-09  2022-06-06    CSD  keshav    SA     USA   \n",
      "\n",
      "                DOB Active  \n",
      "cust_ID                     \n",
      "349      1998-09-06      A  \n",
      "501      1991-02-01      A  \n",
      "File has been created to the specified path\n"
     ]
    }
   ],
   "source": [
    "# calling functions\n",
    "\n",
    "show_data(\"USA\")\n",
    "get_file(\"USA\")"
   ]
  },
  {
   "cell_type": "code",
   "execution_count": 15,
   "id": "b07195bd",
   "metadata": {},
   "outputs": [],
   "source": [
    "ans = df.loc[df['Country'] == \"PHIL\"]"
   ]
  },
  {
   "cell_type": "code",
   "execution_count": 16,
   "id": "7a45b010",
   "metadata": {},
   "outputs": [],
   "source": [
    "def show_data(country):\n",
    "    data = df.loc[df['Country'] == country]\n",
    "    print(data)"
   ]
  },
  {
   "cell_type": "code",
   "execution_count": 17,
   "id": "6ed36a73",
   "metadata": {},
   "outputs": [],
   "source": [
    "def get_file(country):\n",
    "    data = df.loc[df['Country'] == country]\n",
    "    file_name = str(country)\n",
    "    data.to_csv('C:/Users/yogesh/Downloads/' + country + \".csv\")  # replace path with your desired path\n",
    "    print(\"File has been created to the specified path\")\n"
   ]
  },
  {
   "cell_type": "code",
   "execution_count": 18,
   "id": "377c3d6b",
   "metadata": {},
   "outputs": [
    {
     "name": "stdout",
     "output_type": "stream",
     "text": [
      "           Name   Open_date  Consult_dt VAC_ID  Dr_Name State Country  \\\n",
      "cust_ID                                                                 \n",
      "457      manish  2021-09-05  2022-10-05    CSD  kaushal   WAS    PHIL   \n",
      "512       minal  2021-04-09  2022-06-06    CSD    kamya   WAS    PHIL   \n",
      "\n",
      "                DOB Active  \n",
      "cust_ID                     \n",
      "457      1994-04-02      A  \n",
      "512      1994-03-04      A  \n",
      "File has been created to the specified path\n"
     ]
    }
   ],
   "source": [
    "# calling functions\n",
    "\n",
    "show_data(\"PHIL\")\n",
    "get_file(\"PHIL\")"
   ]
  },
  {
   "cell_type": "code",
   "execution_count": 19,
   "id": "ced8f8bd",
   "metadata": {},
   "outputs": [],
   "source": [
    "ans = df.loc[df['Country'] == \"NYC\"]"
   ]
  },
  {
   "cell_type": "code",
   "execution_count": 20,
   "id": "30ce9e9f",
   "metadata": {},
   "outputs": [],
   "source": [
    "def show_data(country):\n",
    "    data = df.loc[df['Country'] == country]\n",
    "    print(data)"
   ]
  },
  {
   "cell_type": "code",
   "execution_count": 21,
   "id": "a0069205",
   "metadata": {},
   "outputs": [],
   "source": [
    "def get_file(country):\n",
    "    data = df.loc[df['Country'] == country]\n",
    "    file_name = str(country)\n",
    "    data.to_csv('C:/Users/yogesh/Downloads/' + country + \".csv\")  # replace path with your desired path\n",
    "    print(\"File has been created to the specified path\")\n"
   ]
  },
  {
   "cell_type": "code",
   "execution_count": 22,
   "id": "79803f71",
   "metadata": {},
   "outputs": [
    {
     "name": "stdout",
     "output_type": "stream",
     "text": [
      "           Name   Open_date  Consult_dt VAC_ID  Dr_Name State Country  \\\n",
      "cust_ID                                                                 \n",
      "488      yogesh  2021-09-08  2022-10-22    CSD  kaushal   BOS     NYC   \n",
      "555       mohit  2021-04-09  2022-06-06    CSD     neha   BOS     NYC   \n",
      "\n",
      "                DOB Active  \n",
      "cust_ID                     \n",
      "488      1992-06-01      A  \n",
      "555      1997-07-07      A  \n",
      "File has been created to the specified path\n"
     ]
    }
   ],
   "source": [
    "# calling functions\n",
    "\n",
    "show_data(\"NYC\")\n",
    "get_file(\"NYC\")"
   ]
  },
  {
   "cell_type": "code",
   "execution_count": 27,
   "id": "16c9a545",
   "metadata": {},
   "outputs": [],
   "source": [
    "ans = df.loc[df['Country'] == \"AU\"]"
   ]
  },
  {
   "cell_type": "code",
   "execution_count": 28,
   "id": "c6186dd4",
   "metadata": {},
   "outputs": [],
   "source": [
    "def show_data(country):\n",
    "    data = df.loc[df['Country'] == country]\n",
    "    print(data)"
   ]
  },
  {
   "cell_type": "code",
   "execution_count": 29,
   "id": "78d774d4",
   "metadata": {},
   "outputs": [],
   "source": [
    "def get_file(country):\n",
    "    data = df.loc[df['Country'] == country]\n",
    "    file_name = str(country)\n",
    "    data.to_csv('C:/Users/yogesh/Downloads/' + country + \".csv\")  # replace path with your desired path\n",
    "    print(\"File has been created to the specified path\")\n"
   ]
  },
  {
   "cell_type": "code",
   "execution_count": 30,
   "id": "2509bc93",
   "metadata": {},
   "outputs": [
    {
     "name": "stdout",
     "output_type": "stream",
     "text": [
      "            Name   Open_date  Consult_dt VAC_ID  Dr_Name State Country  \\\n",
      "cust_ID                                                                  \n",
      "496      shubham  2021-09-04  2022-10-08    CSD  kamlesh   VIC      AU   \n",
      "598       ganesh  2021-04-09  2022-06-06    CSD  kalyani   VIC      AU   \n",
      "\n",
      "                DOB Active  \n",
      "cust_ID                     \n",
      "496      1993-01-09      A  \n",
      "598      1995-09-09      A  \n",
      "File has been created to the specified path\n"
     ]
    }
   ],
   "source": [
    "# calling functions\n",
    "\n",
    "show_data(\"AU\")\n",
    "get_file(\"AU\")"
   ]
  },
  {
   "cell_type": "code",
   "execution_count": null,
   "id": "769d7b3b",
   "metadata": {},
   "outputs": [],
   "source": []
  }
 ],
 "metadata": {
  "kernelspec": {
   "display_name": "Python 3",
   "language": "python",
   "name": "python3"
  },
  "language_info": {
   "codemirror_mode": {
    "name": "ipython",
    "version": 3
   },
   "file_extension": ".py",
   "mimetype": "text/x-python",
   "name": "python",
   "nbconvert_exporter": "python",
   "pygments_lexer": "ipython3",
   "version": "3.8.8"
  }
 },
 "nbformat": 4,
 "nbformat_minor": 5
}
